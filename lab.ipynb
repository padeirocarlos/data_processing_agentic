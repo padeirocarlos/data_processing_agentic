{
 "cells": [
  {
   "cell_type": "code",
   "execution_count": null,
   "id": "9dfc69d8",
   "metadata": {},
   "outputs": [],
   "source": [
    "import os\n",
    "import pandas as pd\n",
    "def load_and_prepare_data( csv_path: str=os.path.join(os.getcwd(),\"dataset/coffee_sales.csv\")) -> pd.DataFrame:\n",
    "    \"\"\"Load CSV and derive date parts commonly used in charts.\"\"\"\n",
    "    df = pd.read_csv(csv_path)\n",
    "    \n",
    "    # Be tolerant if 'date' exists\n",
    "    if \"date\" in df.columns:\n",
    "        df[\"date\"] = pd.to_datetime(df[\"date\"], errors=\"coerce\")\n",
    "        df[\"quarter\"] = df[\"date\"].dt.quarter\n",
    "        df[\"month\"] = df[\"date\"].dt.month\n",
    "        df[\"year\"] = df[\"date\"].dt.year\n",
    "    return df"
   ]
  },
  {
   "cell_type": "code",
   "execution_count": null,
   "id": "e8a07533",
   "metadata": {},
   "outputs": [],
   "source": [
    "import os\n",
    "import pandas as pd\n",
    "import matplotlib.pyplot as plt\n",
    "from datetime import datetime\n",
    "\n",
    "# Assuming df is already loaded\n",
    "df = load_and_prepare_data()\n",
    "\n",
    "df['date'] = pd.to_datetime(df['date'], format='%m/%d/%y')\n",
    "\n",
    "plt.figure(figsize=(10,6))\n",
    "plt.scatter('cash_type', 'price', data=df, hue='coffee_name', marker='', s=50, alpha=0.5, c='b', edgecolor='red')\n",
    "plt.title('Coffee Price by Type and Name', fontsize=18)\n",
    "plt.xlabel('Cash Type', fontsize=14)\n",
    "plt.ylabel('Price', fontsize=14)\n",
    "plt.grid(True, linestyle='--', alpha=0.7)\n",
    "\n",
    "plt.savefig('/home/padeiroc/ai_project/data_processing_agent/out_puts/generate_chart_2025_10_1817109.png', dpi=300)\n",
    "plt.close()"
   ]
  }
 ],
 "metadata": {
  "language_info": {
   "name": "python"
  }
 },
 "nbformat": 4,
 "nbformat_minor": 5
}
