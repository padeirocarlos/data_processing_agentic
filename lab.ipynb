{
 "cells": [
  {
   "cell_type": "code",
   "execution_count": 1,
   "id": "9dfc69d8",
   "metadata": {},
   "outputs": [],
   "source": [
    "import os\n",
    "import pandas as pd\n",
    "def load_and_prepare_data( csv_path: str=os.path.join(os.getcwd(),\"dataset/coffee_sales.csv\")) -> pd.DataFrame:\n",
    "    \"\"\"Load CSV and derive date parts commonly used in charts.\"\"\"\n",
    "    df = pd.read_csv(csv_path)\n",
    "    \n",
    "    # Be tolerant if 'date' exists\n",
    "    if \"date\" in df.columns:\n",
    "        df[\"date\"] = pd.to_datetime(df[\"date\"], errors=\"coerce\")\n",
    "        df[\"quarter\"] = df[\"date\"].dt.quarter\n",
    "        df[\"month\"] = df[\"date\"].dt.month\n",
    "        df[\"year\"] = df[\"date\"].dt.year\n",
    "    return df"
   ]
  },
  {
   "cell_type": "code",
   "execution_count": 5,
   "id": "e8a07533",
   "metadata": {},
   "outputs": [],
   "source": [
    "import os\n",
    "import pandas as pd\n",
    "import matplotlib.pyplot as plt\n",
    "from datetime import datetime\n",
    "\n",
    "# Assuming df is already loaded\n",
    "df = load_and_prepare_data()\n",
    "\n",
    "df['date'] = pd.to_datetime(df['date'], format='%m/%d/%y')\n",
    "\n",
    "# assuming df is already loaded and ready to use\n",
    "plt.style.use('ggplot')  # Changed from 'seaborn-whitegrid' to 'ggplot'\n",
    "def plot_coffee_sales(df):\n",
    "    fig, ax = plt.subplots(figsize=(10,6))\n",
    "    for cash_type in df['cash_type'].unique():\n",
    "        cash_df = df[df['cash_type'] == cash_type]\n",
    "        quarter = [i for i in range(1,5)] # months 1-4 correspond to quarters 1-4\n",
    "        ax.plot(quarter, cash_df.groupby(['month', 'year'])['price'].mean().values, 'o-', label=cash_type + ' ' + cash_df.loc[cash_df['cash_type'] == cash_type]['coffee_name'].unique()[0])\n",
    "    ax.set_xlabel('Quarter')\n",
    "    ax.set_ylabel('Average Price')\n",
    "    ax.set_title('Coffee Sales by Payment Type')\n",
    "    ax.legend()\n",
    "    plt.savefig('generate_chart_2025_10_25214845.png', dpi=300)\n",
    "    plt.close()\n",
    "\n",
    "import pandas as pd\n",
    "import matplotlib.pyplot as plt\n",
    "plt.close()\n",
    "# Set the style and figure size to make the plot larger and more customizable\n",
    "plt.style.use('dark_background')\n",
    "plt.figure(figsize=(15,10))\n",
    "# Plot the chart using scatterplot for data visualization\n",
    "plt.scatter(df['month'],df['price'],color='skyblue',label='Price Trend')\n",
    "plt.title('Monthly Price Trend')\n",
    "plt.xlabel('Month (' + str(len(df['month']))+' '+\"data points'\")\n",
    "# Save the chart\n",
    "plt.savefig('generate_chart_2025_10_25215852.png', dpi=300)\n",
    "plt.close() \n",
    "\n",
    "# Assuming df exists\n",
    "fig = df.plot.hist(column='price', figsize=(10,5), bins=50, title='Price Distribution Over Time', xlabel='Price', ylabel='Frequency')\n",
    "plt.savefig('Price_over_time_2025_10_252247.png', dpi=300)\n",
    "plt.close()\n",
    "\n",
    "# plot_coffee_sales(df)"
   ]
  }
 ],
 "metadata": {
  "kernelspec": {
   "display_name": "mult-agent",
   "language": "python",
   "name": "python3"
  },
  "language_info": {
   "codemirror_mode": {
    "name": "ipython",
    "version": 3
   },
   "file_extension": ".py",
   "mimetype": "text/x-python",
   "name": "python",
   "nbconvert_exporter": "python",
   "pygments_lexer": "ipython3",
   "version": "3.13.7"
  }
 },
 "nbformat": 4,
 "nbformat_minor": 5
}
